{
 "cells": [
  {
   "cell_type": "code",
   "execution_count": 2,
   "id": "1b7c51d2-eb25-4c60-bf97-d713297841cf",
   "metadata": {},
   "outputs": [],
   "source": [
    "import pandas as pd"
   ]
  },
  {
   "cell_type": "code",
   "execution_count": 3,
   "id": "2c295a41-084c-46e5-9ebf-57439d3b0453",
   "metadata": {},
   "outputs": [
    {
     "data": {
      "text/plain": [
       "'2.2.2'"
      ]
     },
     "execution_count": 3,
     "metadata": {},
     "output_type": "execute_result"
    }
   ],
   "source": [
    "pd.__version__"
   ]
  },
  {
   "cell_type": "markdown",
   "id": "8bcf6cce-2df4-41f5-a7b2-d6fa53851d74",
   "metadata": {},
   "source": [
    "# Series"
   ]
  },
  {
   "cell_type": "code",
   "execution_count": 4,
   "id": "9d64a02e-5497-43a3-b392-af633d03f121",
   "metadata": {},
   "outputs": [],
   "source": [
    "s1 = pd.Series()"
   ]
  },
  {
   "cell_type": "code",
   "execution_count": 5,
   "id": "1fc30388-60b9-4f2f-b3b2-055970f47491",
   "metadata": {},
   "outputs": [
    {
     "data": {
      "text/plain": [
       "Series([], dtype: object)"
      ]
     },
     "execution_count": 5,
     "metadata": {},
     "output_type": "execute_result"
    }
   ],
   "source": [
    "s1"
   ]
  },
  {
   "cell_type": "code",
   "execution_count": 6,
   "id": "67d9a296-637b-4a83-9425-5a2180d9c12b",
   "metadata": {},
   "outputs": [
    {
     "data": {
      "text/plain": [
       "0    1\n",
       "1    2\n",
       "2    3\n",
       "3    4\n",
       "4    5\n",
       "dtype: int64"
      ]
     },
     "execution_count": 6,
     "metadata": {},
     "output_type": "execute_result"
    }
   ],
   "source": [
    "s2 = pd.Series([1, 2, 3, 4, 5])\n",
    "s2"
   ]
  },
  {
   "cell_type": "code",
   "execution_count": 7,
   "id": "488f03f8-8485-417d-b1cc-8edda690a048",
   "metadata": {},
   "outputs": [
    {
     "data": {
      "text/plain": [
       "RangeIndex(start=0, stop=5, step=1)"
      ]
     },
     "execution_count": 7,
     "metadata": {},
     "output_type": "execute_result"
    }
   ],
   "source": [
    "s2.index"
   ]
  },
  {
   "cell_type": "code",
   "execution_count": 8,
   "id": "44c56146-0aa1-4907-a51a-3d59b39ee71c",
   "metadata": {},
   "outputs": [
    {
     "data": {
      "text/plain": [
       "array([1, 2, 3, 4, 5], dtype=int64)"
      ]
     },
     "execution_count": 8,
     "metadata": {},
     "output_type": "execute_result"
    }
   ],
   "source": [
    "s2.values"
   ]
  },
  {
   "cell_type": "code",
   "execution_count": 9,
   "id": "c8aec036-7944-4692-84c7-6d28d058a5c4",
   "metadata": {},
   "outputs": [
    {
     "data": {
      "text/plain": [
       "10    1\n",
       "20    2\n",
       "30    3\n",
       "40    4\n",
       "50    5\n",
       "dtype: int64"
      ]
     },
     "execution_count": 9,
     "metadata": {},
     "output_type": "execute_result"
    }
   ],
   "source": [
    "# specifing the index\n",
    "s3 = pd.Series([1,2,3,4,5], index = [10, 20, 30, 40, 50])\n",
    "s3\n"
   ]
  },
  {
   "cell_type": "code",
   "execution_count": 11,
   "id": "2fa69c09-c8d9-44c9-a6f4-ebfb57d55f8a",
   "metadata": {},
   "outputs": [
    {
     "data": {
      "text/plain": [
       "Bib      3.2\n",
       "Lydia    4.5\n",
       "Patie    6.0\n",
       "Joan     5.0\n",
       "David    3.8\n",
       "dtype: float64"
      ]
     },
     "execution_count": 11,
     "metadata": {},
     "output_type": "execute_result"
    }
   ],
   "source": [
    "# Specifying string index\n",
    "scores = pd.Series([3.2, 4.5, 6, 5, 3.8], index = [\"Bib\",\"Lydia\",\"Patie\",\"Joan\",\"David\"])\n",
    "scores"
   ]
  },
  {
   "cell_type": "code",
   "execution_count": 12,
   "id": "406a8e51-f90f-4ba7-bb0e-9ab6ca40ace2",
   "metadata": {},
   "outputs": [
    {
     "data": {
      "text/plain": [
       "Index(['Bib', 'Lydia', 'Patie', 'Joan', 'David'], dtype='object')"
      ]
     },
     "execution_count": 12,
     "metadata": {},
     "output_type": "execute_result"
    }
   ],
   "source": [
    "scores.index"
   ]
  },
  {
   "cell_type": "code",
   "execution_count": 14,
   "id": "8fd6e82a-c8c7-4d32-a841-2d7b07233f49",
   "metadata": {},
   "outputs": [
    {
     "data": {
      "text/plain": [
       "array([3.2, 4.5, 6. , 5. , 3.8])"
      ]
     },
     "execution_count": 14,
     "metadata": {},
     "output_type": "execute_result"
    }
   ],
   "source": [
    "scores.values"
   ]
  },
  {
   "cell_type": "code",
   "execution_count": 15,
   "id": "8fb30d2b-f1ff-43b8-b11a-f84b589106e6",
   "metadata": {},
   "outputs": [],
   "source": [
    "# a dictionary that maps the name of the student to the scores\n",
    "d = {\n",
    "    'Bob':3.2,\n",
    "    'Georg':4.5,\n",
    "    'Alex':2.6,\n",
    "    'Fiona':5,\n",
    "    'Sarah':3.8\n",
    "}\n",
    "\n",
    "s4 = pd.Series(d)"
   ]
  },
  {
   "cell_type": "code",
   "execution_count": 16,
   "id": "5531c2ed-aa25-4b47-828f-3b878a35401d",
   "metadata": {},
   "outputs": [
    {
     "data": {
      "text/plain": [
       "Bob      3.2\n",
       "Georg    4.5\n",
       "Alex     2.6\n",
       "Fiona    5.0\n",
       "Sarah    3.8\n",
       "dtype: float64"
      ]
     },
     "execution_count": 16,
     "metadata": {},
     "output_type": "execute_result"
    }
   ],
   "source": [
    "s4"
   ]
  },
  {
   "cell_type": "code",
   "execution_count": 17,
   "id": "88bff538-47b9-47f5-8af4-288b8fdec4af",
   "metadata": {},
   "outputs": [
    {
     "data": {
      "text/plain": [
       "Index(['Bob', 'Georg', 'Alex', 'Fiona', 'Sarah'], dtype='object')"
      ]
     },
     "execution_count": 17,
     "metadata": {},
     "output_type": "execute_result"
    }
   ],
   "source": [
    "s4.index"
   ]
  },
  {
   "cell_type": "code",
   "execution_count": 18,
   "id": "cba5fb33-6c96-4027-af15-530d5d85cdf4",
   "metadata": {},
   "outputs": [
    {
     "data": {
      "text/plain": [
       "array([3.2, 4.5, 2.6, 5. , 3.8])"
      ]
     },
     "execution_count": 18,
     "metadata": {},
     "output_type": "execute_result"
    }
   ],
   "source": [
    "s4.values"
   ]
  },
  {
   "cell_type": "code",
   "execution_count": null,
   "id": "c4c76518-2818-4f06-89a3-081e21347f2e",
   "metadata": {},
   "outputs": [],
   "source": []
  }
 ],
 "metadata": {
  "kernelspec": {
   "display_name": "Python 3 (ipykernel)",
   "language": "python",
   "name": "python3"
  },
  "language_info": {
   "codemirror_mode": {
    "name": "ipython",
    "version": 3
   },
   "file_extension": ".py",
   "mimetype": "text/x-python",
   "name": "python",
   "nbconvert_exporter": "python",
   "pygments_lexer": "ipython3",
   "version": "3.12.5"
  }
 },
 "nbformat": 4,
 "nbformat_minor": 5
}
