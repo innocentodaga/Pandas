{
 "cells": [
  {
   "cell_type": "markdown",
   "id": "9dcd9029-d072-4e31-93f9-c38ee78581d7",
   "metadata": {},
   "source": [
    "# DataFrame"
   ]
  },
  {
   "cell_type": "code",
   "execution_count": 15,
   "id": "975d9b37-ab5a-4810-95a8-948c9af6f09a",
   "metadata": {},
   "outputs": [],
   "source": [
    "import pandas as pd"
   ]
  },
  {
   "cell_type": "code",
   "execution_count": 16,
   "id": "bc8474a5-b184-4db6-a80b-863a9ac5f056",
   "metadata": {},
   "outputs": [],
   "source": [
    "df1 = pd.DataFrame()"
   ]
  },
  {
   "cell_type": "code",
   "execution_count": 17,
   "id": "e87aa4cd-2a8c-4cd9-a290-a94b18920f29",
   "metadata": {},
   "outputs": [
    {
     "data": {
      "text/plain": [
       "pandas.core.frame.DataFrame"
      ]
     },
     "execution_count": 17,
     "metadata": {},
     "output_type": "execute_result"
    }
   ],
   "source": [
    "type(df1)"
   ]
  },
  {
   "cell_type": "code",
   "execution_count": 18,
   "id": "1ad09b70-4b86-4994-973a-fbc3528fae74",
   "metadata": {},
   "outputs": [
    {
     "name": "stdout",
     "output_type": "stream",
     "text": [
      "Empty DataFrame\n",
      "Columns: []\n",
      "Index: []\n"
     ]
    }
   ],
   "source": [
    "print(df1)"
   ]
  },
  {
   "cell_type": "code",
   "execution_count": 19,
   "id": "560f8175-2c71-4309-a811-e60c4b55f72f",
   "metadata": {},
   "outputs": [
    {
     "data": {
      "text/plain": [
       "RangeIndex(start=0, stop=0, step=1)"
      ]
     },
     "execution_count": 19,
     "metadata": {},
     "output_type": "execute_result"
    }
   ],
   "source": [
    "# returning the columns of the dataframe\n",
    "df1.columns"
   ]
  },
  {
   "cell_type": "code",
   "execution_count": 20,
   "id": "544bed6e-bccd-4cd6-b393-9663df2fbfd8",
   "metadata": {},
   "outputs": [
    {
     "name": "stdout",
     "output_type": "stream",
     "text": [
      "RangeIndex(start=0, stop=0, step=1)\n"
     ]
    }
   ],
   "source": [
    "print(df1.index)"
   ]
  },
  {
   "cell_type": "code",
   "execution_count": 26,
   "id": "d108c4d2-22c0-479e-9cf8-a0ac694cacc7",
   "metadata": {},
   "outputs": [],
   "source": [
    "students_list = [['Bob', 'Williams', 26, 'Computer Engineering', 86],\n",
    "                 ['Emma', 'Johnson', 23, 'Math', 92],\n",
    "                 ['Sarah', 'Smith', 22, 'Chemistry', 95],\n",
    "                 ['Alex', 'Brown',21, 'Electrical engineering', 82],\n",
    "                ]"
   ]
  },
  {
   "cell_type": "code",
   "execution_count": 27,
   "id": "e0b779b2-9112-42da-8d0d-375091ba71ec",
   "metadata": {},
   "outputs": [],
   "source": [
    "students_df = pd.DataFrame(students_list)"
   ]
  },
  {
   "cell_type": "code",
   "execution_count": 28,
   "id": "8d25f249-9589-4f02-bd51-155b65ea7756",
   "metadata": {},
   "outputs": [
    {
     "data": {
      "text/html": [
       "<div>\n",
       "<style scoped>\n",
       "    .dataframe tbody tr th:only-of-type {\n",
       "        vertical-align: middle;\n",
       "    }\n",
       "\n",
       "    .dataframe tbody tr th {\n",
       "        vertical-align: top;\n",
       "    }\n",
       "\n",
       "    .dataframe thead th {\n",
       "        text-align: right;\n",
       "    }\n",
       "</style>\n",
       "<table border=\"1\" class=\"dataframe\">\n",
       "  <thead>\n",
       "    <tr style=\"text-align: right;\">\n",
       "      <th></th>\n",
       "      <th>0</th>\n",
       "      <th>1</th>\n",
       "      <th>2</th>\n",
       "      <th>3</th>\n",
       "      <th>4</th>\n",
       "    </tr>\n",
       "  </thead>\n",
       "  <tbody>\n",
       "    <tr>\n",
       "      <th>0</th>\n",
       "      <td>Bob</td>\n",
       "      <td>Williams</td>\n",
       "      <td>26</td>\n",
       "      <td>Computer Engineering</td>\n",
       "      <td>86</td>\n",
       "    </tr>\n",
       "    <tr>\n",
       "      <th>1</th>\n",
       "      <td>Emma</td>\n",
       "      <td>Johnson</td>\n",
       "      <td>23</td>\n",
       "      <td>Math</td>\n",
       "      <td>92</td>\n",
       "    </tr>\n",
       "    <tr>\n",
       "      <th>2</th>\n",
       "      <td>Sarah</td>\n",
       "      <td>Smith</td>\n",
       "      <td>22</td>\n",
       "      <td>Chemistry</td>\n",
       "      <td>95</td>\n",
       "    </tr>\n",
       "    <tr>\n",
       "      <th>3</th>\n",
       "      <td>Alex</td>\n",
       "      <td>Brown</td>\n",
       "      <td>21</td>\n",
       "      <td>Electrical engineering</td>\n",
       "      <td>82</td>\n",
       "    </tr>\n",
       "  </tbody>\n",
       "</table>\n",
       "</div>"
      ],
      "text/plain": [
       "       0         1   2                       3   4\n",
       "0    Bob  Williams  26    Computer Engineering  86\n",
       "1   Emma   Johnson  23                    Math  92\n",
       "2  Sarah     Smith  22               Chemistry  95\n",
       "3   Alex     Brown  21  Electrical engineering  82"
      ]
     },
     "execution_count": 28,
     "metadata": {},
     "output_type": "execute_result"
    }
   ],
   "source": [
    "students_df"
   ]
  },
  {
   "cell_type": "code",
   "execution_count": 29,
   "id": "804c8941-722e-4b7e-972d-98144a564e25",
   "metadata": {},
   "outputs": [],
   "source": [
    "# Giving the columns headings\n",
    "students_df = pd.DataFrame(students_list, columns = [\"FirstName\", \"LastName\", \"Age\", \"Major\", \"Score\"])"
   ]
  },
  {
   "cell_type": "code",
   "execution_count": 30,
   "id": "8b138116-dd8d-4829-a047-ac23ca1657ad",
   "metadata": {},
   "outputs": [
    {
     "data": {
      "text/html": [
       "<div>\n",
       "<style scoped>\n",
       "    .dataframe tbody tr th:only-of-type {\n",
       "        vertical-align: middle;\n",
       "    }\n",
       "\n",
       "    .dataframe tbody tr th {\n",
       "        vertical-align: top;\n",
       "    }\n",
       "\n",
       "    .dataframe thead th {\n",
       "        text-align: right;\n",
       "    }\n",
       "</style>\n",
       "<table border=\"1\" class=\"dataframe\">\n",
       "  <thead>\n",
       "    <tr style=\"text-align: right;\">\n",
       "      <th></th>\n",
       "      <th>FirstName</th>\n",
       "      <th>LastName</th>\n",
       "      <th>Age</th>\n",
       "      <th>Major</th>\n",
       "      <th>Score</th>\n",
       "    </tr>\n",
       "  </thead>\n",
       "  <tbody>\n",
       "    <tr>\n",
       "      <th>0</th>\n",
       "      <td>Bob</td>\n",
       "      <td>Williams</td>\n",
       "      <td>26</td>\n",
       "      <td>Computer Engineering</td>\n",
       "      <td>86</td>\n",
       "    </tr>\n",
       "    <tr>\n",
       "      <th>1</th>\n",
       "      <td>Emma</td>\n",
       "      <td>Johnson</td>\n",
       "      <td>23</td>\n",
       "      <td>Math</td>\n",
       "      <td>92</td>\n",
       "    </tr>\n",
       "    <tr>\n",
       "      <th>2</th>\n",
       "      <td>Sarah</td>\n",
       "      <td>Smith</td>\n",
       "      <td>22</td>\n",
       "      <td>Chemistry</td>\n",
       "      <td>95</td>\n",
       "    </tr>\n",
       "    <tr>\n",
       "      <th>3</th>\n",
       "      <td>Alex</td>\n",
       "      <td>Brown</td>\n",
       "      <td>21</td>\n",
       "      <td>Electrical engineering</td>\n",
       "      <td>82</td>\n",
       "    </tr>\n",
       "  </tbody>\n",
       "</table>\n",
       "</div>"
      ],
      "text/plain": [
       "  FirstName  LastName  Age                   Major  Score\n",
       "0       Bob  Williams   26    Computer Engineering     86\n",
       "1      Emma   Johnson   23                    Math     92\n",
       "2     Sarah     Smith   22               Chemistry     95\n",
       "3      Alex     Brown   21  Electrical engineering     82"
      ]
     },
     "execution_count": 30,
     "metadata": {},
     "output_type": "execute_result"
    }
   ],
   "source": [
    "students_df"
   ]
  },
  {
   "cell_type": "code",
   "execution_count": 32,
   "id": "4aa942ba-621d-4b37-ad62-ba1bf389a005",
   "metadata": {},
   "outputs": [],
   "source": [
    "# Changing the index to have the email of the students\n",
    "students_df = pd.DataFrame(students_list, columns = [\"FirstName\", \"LastName\", \"Age\", \"Major\", \"Score\"],\n",
    "                          index = [\"bob@gmail.com\", \"emma@gmail.com\", \"sarah@gmail.com\", \"alex@gmail.com\"]\n",
    "                          )"
   ]
  },
  {
   "cell_type": "code",
   "execution_count": 33,
   "id": "1fce1fb3-cb2a-47af-925d-c9cb8d6f2de5",
   "metadata": {},
   "outputs": [
    {
     "data": {
      "text/html": [
       "<div>\n",
       "<style scoped>\n",
       "    .dataframe tbody tr th:only-of-type {\n",
       "        vertical-align: middle;\n",
       "    }\n",
       "\n",
       "    .dataframe tbody tr th {\n",
       "        vertical-align: top;\n",
       "    }\n",
       "\n",
       "    .dataframe thead th {\n",
       "        text-align: right;\n",
       "    }\n",
       "</style>\n",
       "<table border=\"1\" class=\"dataframe\">\n",
       "  <thead>\n",
       "    <tr style=\"text-align: right;\">\n",
       "      <th></th>\n",
       "      <th>FirstName</th>\n",
       "      <th>LastName</th>\n",
       "      <th>Age</th>\n",
       "      <th>Major</th>\n",
       "      <th>Score</th>\n",
       "    </tr>\n",
       "  </thead>\n",
       "  <tbody>\n",
       "    <tr>\n",
       "      <th>bob@gmail.com</th>\n",
       "      <td>Bob</td>\n",
       "      <td>Williams</td>\n",
       "      <td>26</td>\n",
       "      <td>Computer Engineering</td>\n",
       "      <td>86</td>\n",
       "    </tr>\n",
       "    <tr>\n",
       "      <th>emma@gmail.com</th>\n",
       "      <td>Emma</td>\n",
       "      <td>Johnson</td>\n",
       "      <td>23</td>\n",
       "      <td>Math</td>\n",
       "      <td>92</td>\n",
       "    </tr>\n",
       "    <tr>\n",
       "      <th>sarah@gmail.com</th>\n",
       "      <td>Sarah</td>\n",
       "      <td>Smith</td>\n",
       "      <td>22</td>\n",
       "      <td>Chemistry</td>\n",
       "      <td>95</td>\n",
       "    </tr>\n",
       "    <tr>\n",
       "      <th>alex@gmail.com</th>\n",
       "      <td>Alex</td>\n",
       "      <td>Brown</td>\n",
       "      <td>21</td>\n",
       "      <td>Electrical engineering</td>\n",
       "      <td>82</td>\n",
       "    </tr>\n",
       "  </tbody>\n",
       "</table>\n",
       "</div>"
      ],
      "text/plain": [
       "                FirstName  LastName  Age                   Major  Score\n",
       "bob@gmail.com         Bob  Williams   26    Computer Engineering     86\n",
       "emma@gmail.com       Emma   Johnson   23                    Math     92\n",
       "sarah@gmail.com     Sarah     Smith   22               Chemistry     95\n",
       "alex@gmail.com       Alex     Brown   21  Electrical engineering     82"
      ]
     },
     "execution_count": 33,
     "metadata": {},
     "output_type": "execute_result"
    }
   ],
   "source": [
    "students_df"
   ]
  },
  {
   "cell_type": "code",
   "execution_count": 34,
   "id": "6cedb0b0-e89e-45f1-bcc9-5c3b29a49fa1",
   "metadata": {},
   "outputs": [],
   "source": [
    "# How to convert a dictionary to pandas Datafram\n",
    "\n",
    "dict = {\"First_Name\":['Bob', 'Emma', 'Sarah', 'Alex'],\n",
    "        \"Last_Name\":['William', 'Johnson', 'Smith', 'Brown'],\n",
    "        \"Age\":[26, 23, 22, 21],\n",
    "        \"Major\":['Computer Engineering', 'Math', 'Chemistry', 'Electrical Engineering'],\n",
    "        \"Score\":[86, 92, 95, 82],       \n",
    "       }"
   ]
  },
  {
   "cell_type": "code",
   "execution_count": 35,
   "id": "7427517e-c98b-4dbf-9ec8-07e96f9b0443",
   "metadata": {},
   "outputs": [],
   "source": [
    "students_df2 = pd.DataFrame(dict)"
   ]
  },
  {
   "cell_type": "code",
   "execution_count": 36,
   "id": "69c408c6-c308-4652-863e-104d8a64ec3a",
   "metadata": {},
   "outputs": [
    {
     "data": {
      "text/html": [
       "<div>\n",
       "<style scoped>\n",
       "    .dataframe tbody tr th:only-of-type {\n",
       "        vertical-align: middle;\n",
       "    }\n",
       "\n",
       "    .dataframe tbody tr th {\n",
       "        vertical-align: top;\n",
       "    }\n",
       "\n",
       "    .dataframe thead th {\n",
       "        text-align: right;\n",
       "    }\n",
       "</style>\n",
       "<table border=\"1\" class=\"dataframe\">\n",
       "  <thead>\n",
       "    <tr style=\"text-align: right;\">\n",
       "      <th></th>\n",
       "      <th>First_Name</th>\n",
       "      <th>Last_Name</th>\n",
       "      <th>Age</th>\n",
       "      <th>Major</th>\n",
       "      <th>Score</th>\n",
       "    </tr>\n",
       "  </thead>\n",
       "  <tbody>\n",
       "    <tr>\n",
       "      <th>0</th>\n",
       "      <td>Bob</td>\n",
       "      <td>William</td>\n",
       "      <td>26</td>\n",
       "      <td>Computer Engineering</td>\n",
       "      <td>86</td>\n",
       "    </tr>\n",
       "    <tr>\n",
       "      <th>1</th>\n",
       "      <td>Emma</td>\n",
       "      <td>Johnson</td>\n",
       "      <td>23</td>\n",
       "      <td>Math</td>\n",
       "      <td>92</td>\n",
       "    </tr>\n",
       "    <tr>\n",
       "      <th>2</th>\n",
       "      <td>Sarah</td>\n",
       "      <td>Smith</td>\n",
       "      <td>22</td>\n",
       "      <td>Chemistry</td>\n",
       "      <td>95</td>\n",
       "    </tr>\n",
       "    <tr>\n",
       "      <th>3</th>\n",
       "      <td>Alex</td>\n",
       "      <td>Brown</td>\n",
       "      <td>21</td>\n",
       "      <td>Electrical Engineering</td>\n",
       "      <td>82</td>\n",
       "    </tr>\n",
       "  </tbody>\n",
       "</table>\n",
       "</div>"
      ],
      "text/plain": [
       "  First_Name Last_Name  Age                   Major  Score\n",
       "0        Bob   William   26    Computer Engineering     86\n",
       "1       Emma   Johnson   23                    Math     92\n",
       "2      Sarah     Smith   22               Chemistry     95\n",
       "3       Alex     Brown   21  Electrical Engineering     82"
      ]
     },
     "execution_count": 36,
     "metadata": {},
     "output_type": "execute_result"
    }
   ],
   "source": [
    "students_df2"
   ]
  },
  {
   "cell_type": "code",
   "execution_count": 38,
   "id": "bb0893a5-7654-4060-ab0b-28d686f425ad",
   "metadata": {},
   "outputs": [
    {
     "data": {
      "text/html": [
       "<div>\n",
       "<style scoped>\n",
       "    .dataframe tbody tr th:only-of-type {\n",
       "        vertical-align: middle;\n",
       "    }\n",
       "\n",
       "    .dataframe tbody tr th {\n",
       "        vertical-align: top;\n",
       "    }\n",
       "\n",
       "    .dataframe thead th {\n",
       "        text-align: right;\n",
       "    }\n",
       "</style>\n",
       "<table border=\"1\" class=\"dataframe\">\n",
       "  <thead>\n",
       "    <tr style=\"text-align: right;\">\n",
       "      <th></th>\n",
       "      <th>First_Name</th>\n",
       "      <th>Score</th>\n",
       "    </tr>\n",
       "  </thead>\n",
       "  <tbody>\n",
       "    <tr>\n",
       "      <th>0</th>\n",
       "      <td>Bob</td>\n",
       "      <td>86</td>\n",
       "    </tr>\n",
       "    <tr>\n",
       "      <th>1</th>\n",
       "      <td>Emma</td>\n",
       "      <td>92</td>\n",
       "    </tr>\n",
       "    <tr>\n",
       "      <th>2</th>\n",
       "      <td>Sarah</td>\n",
       "      <td>95</td>\n",
       "    </tr>\n",
       "    <tr>\n",
       "      <th>3</th>\n",
       "      <td>Alex</td>\n",
       "      <td>82</td>\n",
       "    </tr>\n",
       "  </tbody>\n",
       "</table>\n",
       "</div>"
      ],
      "text/plain": [
       "  First_Name  Score\n",
       "0        Bob     86\n",
       "1       Emma     92\n",
       "2      Sarah     95\n",
       "3       Alex     82"
      ]
     },
     "execution_count": 38,
     "metadata": {},
     "output_type": "execute_result"
    }
   ],
   "source": [
    "# Specifying certain columns only\n",
    "students_df2 = pd.DataFrame(dict, columns = [\"First_Name\", \"Score\"])\n",
    "students_df2"
   ]
  },
  {
   "cell_type": "code",
   "execution_count": 42,
   "id": "d02348eb-0f04-4c4f-96bf-80e663dbc1cf",
   "metadata": {},
   "outputs": [],
   "source": [
    "students_df2 = pd.DataFrame(dict, index = [0, 1, 2, 3])"
   ]
  },
  {
   "cell_type": "code",
   "execution_count": 43,
   "id": "7c7fe3c4-3a74-4a78-b84a-dc1b20f1d9bd",
   "metadata": {},
   "outputs": [
    {
     "data": {
      "text/plain": [
       "Index(['bob@gmail.com', 'emma@gmail.com', 'sarah@gmail.com', 'alex@gmail.com'], dtype='object')"
      ]
     },
     "execution_count": 43,
     "metadata": {},
     "output_type": "execute_result"
    }
   ],
   "source": [
    "# to view the index\n",
    "students_df.index"
   ]
  },
  {
   "cell_type": "code",
   "execution_count": 44,
   "id": "9329eddf-5ab8-40c4-a7ac-c5fb5abee364",
   "metadata": {},
   "outputs": [
    {
     "data": {
      "text/plain": [
       "Index(['FirstName', 'LastName', 'Age', 'Major', 'Score'], dtype='object')"
      ]
     },
     "execution_count": 44,
     "metadata": {},
     "output_type": "execute_result"
    }
   ],
   "source": [
    "# to view the columns\n",
    "students_df.columns"
   ]
  },
  {
   "cell_type": "code",
   "execution_count": 45,
   "id": "ec522db9-54bc-47eb-ba67-9d3a7be31833",
   "metadata": {},
   "outputs": [
    {
     "data": {
      "text/plain": [
       "(4, 5)"
      ]
     },
     "execution_count": 45,
     "metadata": {},
     "output_type": "execute_result"
    }
   ],
   "source": [
    "# to determine the number of rows and columns\n",
    "students_df.shape"
   ]
  },
  {
   "cell_type": "code",
   "execution_count": 46,
   "id": "da96eafc-b057-42ef-b5b9-a38cd14868a6",
   "metadata": {},
   "outputs": [
    {
     "data": {
      "text/html": [
       "<div>\n",
       "<style scoped>\n",
       "    .dataframe tbody tr th:only-of-type {\n",
       "        vertical-align: middle;\n",
       "    }\n",
       "\n",
       "    .dataframe tbody tr th {\n",
       "        vertical-align: top;\n",
       "    }\n",
       "\n",
       "    .dataframe thead th {\n",
       "        text-align: right;\n",
       "    }\n",
       "</style>\n",
       "<table border=\"1\" class=\"dataframe\">\n",
       "  <thead>\n",
       "    <tr style=\"text-align: right;\">\n",
       "      <th></th>\n",
       "      <th>FirstName</th>\n",
       "      <th>LastName</th>\n",
       "      <th>Age</th>\n",
       "      <th>Major</th>\n",
       "      <th>Score</th>\n",
       "    </tr>\n",
       "  </thead>\n",
       "  <tbody>\n",
       "    <tr>\n",
       "      <th>bob@gmail.com</th>\n",
       "      <td>Bob</td>\n",
       "      <td>Williams</td>\n",
       "      <td>26</td>\n",
       "      <td>Computer Engineering</td>\n",
       "      <td>86</td>\n",
       "    </tr>\n",
       "    <tr>\n",
       "      <th>emma@gmail.com</th>\n",
       "      <td>Emma</td>\n",
       "      <td>Johnson</td>\n",
       "      <td>23</td>\n",
       "      <td>Math</td>\n",
       "      <td>92</td>\n",
       "    </tr>\n",
       "  </tbody>\n",
       "</table>\n",
       "</div>"
      ],
      "text/plain": [
       "               FirstName  LastName  Age                 Major  Score\n",
       "bob@gmail.com        Bob  Williams   26  Computer Engineering     86\n",
       "emma@gmail.com      Emma   Johnson   23                  Math     92"
      ]
     },
     "execution_count": 46,
     "metadata": {},
     "output_type": "execute_result"
    }
   ],
   "source": [
    "# To display the first n values we use the head() method\n",
    "students_df.head(2)\n"
   ]
  },
  {
   "cell_type": "code",
   "execution_count": 47,
   "id": "49e2d0ff-9e9d-4ea9-98d3-e70c2739408b",
   "metadata": {},
   "outputs": [
    {
     "data": {
      "text/html": [
       "<div>\n",
       "<style scoped>\n",
       "    .dataframe tbody tr th:only-of-type {\n",
       "        vertical-align: middle;\n",
       "    }\n",
       "\n",
       "    .dataframe tbody tr th {\n",
       "        vertical-align: top;\n",
       "    }\n",
       "\n",
       "    .dataframe thead th {\n",
       "        text-align: right;\n",
       "    }\n",
       "</style>\n",
       "<table border=\"1\" class=\"dataframe\">\n",
       "  <thead>\n",
       "    <tr style=\"text-align: right;\">\n",
       "      <th></th>\n",
       "      <th>FirstName</th>\n",
       "      <th>LastName</th>\n",
       "      <th>Age</th>\n",
       "      <th>Major</th>\n",
       "      <th>Score</th>\n",
       "    </tr>\n",
       "  </thead>\n",
       "  <tbody>\n",
       "    <tr>\n",
       "      <th>sarah@gmail.com</th>\n",
       "      <td>Sarah</td>\n",
       "      <td>Smith</td>\n",
       "      <td>22</td>\n",
       "      <td>Chemistry</td>\n",
       "      <td>95</td>\n",
       "    </tr>\n",
       "    <tr>\n",
       "      <th>alex@gmail.com</th>\n",
       "      <td>Alex</td>\n",
       "      <td>Brown</td>\n",
       "      <td>21</td>\n",
       "      <td>Electrical engineering</td>\n",
       "      <td>82</td>\n",
       "    </tr>\n",
       "  </tbody>\n",
       "</table>\n",
       "</div>"
      ],
      "text/plain": [
       "                FirstName LastName  Age                   Major  Score\n",
       "sarah@gmail.com     Sarah    Smith   22               Chemistry     95\n",
       "alex@gmail.com       Alex    Brown   21  Electrical engineering     82"
      ]
     },
     "execution_count": 47,
     "metadata": {},
     "output_type": "execute_result"
    }
   ],
   "source": [
    "# to display the last rows of the DataFrame\n",
    "students_df.tail(2)"
   ]
  },
  {
   "cell_type": "code",
   "execution_count": 49,
   "id": "a811efd9-db0f-42c8-8cbe-bac933e1a069",
   "metadata": {},
   "outputs": [
    {
     "name": "stdout",
     "output_type": "stream",
     "text": [
      "<class 'pandas.core.frame.DataFrame'>\n",
      "Index: 4 entries, bob@gmail.com to alex@gmail.com\n",
      "Data columns (total 5 columns):\n",
      " #   Column     Non-Null Count  Dtype \n",
      "---  ------     --------------  ----- \n",
      " 0   FirstName  4 non-null      object\n",
      " 1   LastName   4 non-null      object\n",
      " 2   Age        4 non-null      int64 \n",
      " 3   Major      4 non-null      object\n",
      " 4   Score      4 non-null      int64 \n",
      "dtypes: int64(2), object(3)\n",
      "memory usage: 192.0+ bytes\n"
     ]
    }
   ],
   "source": [
    "# To Display the all columns with their datatypes and the number of all non-null values\n",
    "# The memory usage too\n",
    "students_df.info()"
   ]
  },
  {
   "cell_type": "code",
   "execution_count": 50,
   "id": "dd4223a1-bab3-4fec-87e5-72d29033d23c",
   "metadata": {},
   "outputs": [
    {
     "data": {
      "text/html": [
       "<div>\n",
       "<style scoped>\n",
       "    .dataframe tbody tr th:only-of-type {\n",
       "        vertical-align: middle;\n",
       "    }\n",
       "\n",
       "    .dataframe tbody tr th {\n",
       "        vertical-align: top;\n",
       "    }\n",
       "\n",
       "    .dataframe thead th {\n",
       "        text-align: right;\n",
       "    }\n",
       "</style>\n",
       "<table border=\"1\" class=\"dataframe\">\n",
       "  <thead>\n",
       "    <tr style=\"text-align: right;\">\n",
       "      <th></th>\n",
       "      <th>Age</th>\n",
       "      <th>Score</th>\n",
       "    </tr>\n",
       "  </thead>\n",
       "  <tbody>\n",
       "    <tr>\n",
       "      <th>count</th>\n",
       "      <td>4.000000</td>\n",
       "      <td>4.00000</td>\n",
       "    </tr>\n",
       "    <tr>\n",
       "      <th>mean</th>\n",
       "      <td>23.000000</td>\n",
       "      <td>88.75000</td>\n",
       "    </tr>\n",
       "    <tr>\n",
       "      <th>std</th>\n",
       "      <td>2.160247</td>\n",
       "      <td>5.85235</td>\n",
       "    </tr>\n",
       "    <tr>\n",
       "      <th>min</th>\n",
       "      <td>21.000000</td>\n",
       "      <td>82.00000</td>\n",
       "    </tr>\n",
       "    <tr>\n",
       "      <th>25%</th>\n",
       "      <td>21.750000</td>\n",
       "      <td>85.00000</td>\n",
       "    </tr>\n",
       "    <tr>\n",
       "      <th>50%</th>\n",
       "      <td>22.500000</td>\n",
       "      <td>89.00000</td>\n",
       "    </tr>\n",
       "    <tr>\n",
       "      <th>75%</th>\n",
       "      <td>23.750000</td>\n",
       "      <td>92.75000</td>\n",
       "    </tr>\n",
       "    <tr>\n",
       "      <th>max</th>\n",
       "      <td>26.000000</td>\n",
       "      <td>95.00000</td>\n",
       "    </tr>\n",
       "  </tbody>\n",
       "</table>\n",
       "</div>"
      ],
      "text/plain": [
       "             Age     Score\n",
       "count   4.000000   4.00000\n",
       "mean   23.000000  88.75000\n",
       "std     2.160247   5.85235\n",
       "min    21.000000  82.00000\n",
       "25%    21.750000  85.00000\n",
       "50%    22.500000  89.00000\n",
       "75%    23.750000  92.75000\n",
       "max    26.000000  95.00000"
      ]
     },
     "execution_count": 50,
     "metadata": {},
     "output_type": "execute_result"
    }
   ],
   "source": [
    "# Used to display some basic statistical details like mean, standard deviation, \n",
    "# count the percetiles, min number and the maximum number\n",
    "students_df.describe()"
   ]
  },
  {
   "cell_type": "code",
   "execution_count": null,
   "id": "05468b85-bec4-4384-b763-17701102f412",
   "metadata": {},
   "outputs": [],
   "source": []
  }
 ],
 "metadata": {
  "kernelspec": {
   "display_name": "Python 3 (ipykernel)",
   "language": "python",
   "name": "python3"
  },
  "language_info": {
   "codemirror_mode": {
    "name": "ipython",
    "version": 3
   },
   "file_extension": ".py",
   "mimetype": "text/x-python",
   "name": "python",
   "nbconvert_exporter": "python",
   "pygments_lexer": "ipython3",
   "version": "3.12.5"
  }
 },
 "nbformat": 4,
 "nbformat_minor": 5
}
