{
 "cells": [
  {
   "cell_type": "markdown",
   "id": "bf598a6a-1bcd-49ff-84da-3786269e5ec7",
   "metadata": {},
   "source": [
    "# Accessing a Group of Rows and columns in pandas"
   ]
  },
  {
   "cell_type": "code",
   "execution_count": 1,
   "id": "3dc0556f-f0c9-48c9-91e6-ed09f485c7f0",
   "metadata": {},
   "outputs": [],
   "source": [
    "import pandas as pd"
   ]
  },
  {
   "cell_type": "code",
   "execution_count": 3,
   "id": "00c991ca-1e72-4362-a1c0-cfd62179abb3",
   "metadata": {},
   "outputs": [
    {
     "name": "stdout",
     "output_type": "stream",
     "text": [
      "Students Records\n",
      "\n",
      "      Student  Rank  Marks\n",
      "RowA    Amit     1     95\n",
      "RowB    John     2     70\n",
      "RowC   Jacob     3     80\n",
      "RowD   David     4     60\n",
      "RowE   Steve     5     90\n"
     ]
    }
   ],
   "source": [
    "data = {\n",
    "    'Student': [\"Amit\", \"John\", \"Jacob\", \"David\", \"Steve\"],\n",
    "    'Rank': [1, 2, 3, 4, 5],\n",
    "    'Marks': [95, 70, 80, 60, 90]\n",
    "}\n",
    " # creating a dataframe object\n",
    "df = pd.DataFrame(data, index = ['RowA', 'RowB', 'RowC', 'RowD', 'RowE'])\n",
    "\n",
    "# Displaying the Results \n",
    "print(f\"Students Records\\n\\n {df}\")"
   ]
  },
  {
   "cell_type": "markdown",
   "id": "bae7567f-ece4-4b7a-8dc1-afd14d9d79df",
   "metadata": {},
   "source": [
    "accessing the value in the student column coreesponding to the RowA label"
   ]
  },
  {
   "cell_type": "code",
   "execution_count": 4,
   "id": "b3bf82f9-32a2-45d0-8d19-a5cb0ade97ba",
   "metadata": {},
   "outputs": [
    {
     "name": "stdout",
     "output_type": "stream",
     "text": [
      "\n",
      "Value = Amit\n"
     ]
    }
   ],
   "source": [
    "print(f'\\nValue = {df.loc['RowA', 'Student']}')"
   ]
  },
  {
   "cell_type": "code",
   "execution_count": null,
   "id": "af5a18cd-425f-4262-8b54-8428635370b5",
   "metadata": {},
   "outputs": [],
   "source": []
  }
 ],
 "metadata": {
  "kernelspec": {
   "display_name": "Python 3 (ipykernel)",
   "language": "python",
   "name": "python3"
  },
  "language_info": {
   "codemirror_mode": {
    "name": "ipython",
    "version": 3
   },
   "file_extension": ".py",
   "mimetype": "text/x-python",
   "name": "python",
   "nbconvert_exporter": "python",
   "pygments_lexer": "ipython3",
   "version": "3.12.5"
  }
 },
 "nbformat": 4,
 "nbformat_minor": 5
}
